{
 "cells": [
  {
   "cell_type": "markdown",
   "id": "ab483553-44ed-449e-859c-307a6bee6da7",
   "metadata": {},
   "source": [
    "The following items are available in a store, with their corresponding prices per unit:\n",
    "\n",
    "Indomie- $400,\n",
    "Egg- $100,\n",
    "Oil- $150,\n",
    "Sardine- $800,\n",
    "Bread- $700,\n",
    "Tea- $120.\n",
    "\n",
    "Create a customer-input invoice showing their name, the sum of each item that was bought and the total bill."
   ]
  },
  {
   "cell_type": "markdown",
   "id": "66c4189a-599a-49c6-84f0-a75e981f0834",
   "metadata": {},
   "source": [
    "# Solution"
   ]
  },
  {
   "cell_type": "code",
   "execution_count": null,
   "id": "2d5532f9-5611-496b-b379-77ad5b165831",
   "metadata": {},
   "outputs": [],
   "source": [
    "Indomie = 400\n",
    "Egg = 100\n",
    "Oil = 150\n",
    "Sardine = 800\n",
    "Bread = 700\n",
    "Tea = 120\n",
    "\n",
    "Customer_name = input( 'Name of customer:')\n",
    "\n",
    "print (\"      \")\n",
    "\n",
    "Indomie_unit = int( input( 'No. of Indomie units sold:'))\n",
    "Egg_unit = int( input( 'No. of Egg units sold:'))\n",
    "Oil_unit = int( input( 'No. of Oil units sold:'))\n",
    "Sardine_unit = int( input( 'No. of Sardine units sold:'))\n",
    "Bread_unit = int( input( 'No. of Bread units sold:'))\n",
    "Tea_unit = int( input( 'No. of Tea units sold:'))\n",
    "\n",
    "print (\"      \")\n",
    "\n",
    "Total_cost_of_Indomie = int (Indomie * Indomie_unit)\n",
    "Total_cost_of_Egg = int (Egg * Egg_unit)\n",
    "Total_cost_of_Oil = int (Oil * Oil_unit)\n",
    "Total_cost_of_Sardine = int (Sardine * Sardine_unit)\n",
    "Total_cost_of_Bread = int (Bread * Bread_unit)\n",
    "Total_cost_of_Tea = int (Tea * Tea_unit)\n",
    "\n",
    "print (\"      \")\n",
    "\n",
    "print (\"Total cost of Indomie: \" + str( Total_cost_of_Indomie) )\n",
    "print (\"Total cost of Egg: \" + str( Total_cost_of_Egg) )\n",
    "print (\"Total cost of Oil: \" + str( Total_cost_of_Oil) )\n",
    "print (\"Total cost of Sardine: \" + str( Total_cost_of_Sardine) )\n",
    "print (\"Total cost of Bread: \" + str( Total_cost_of_Bread) )\n",
    "print (\"Total cost of Tea: \" + str( Total_cost_of_Tea) )\n",
    "\n",
    "print (\"      \")\n",
    "\n",
    "print (\"GRAND TOTAL: \" + \n",
    "       str( Total_cost_of_Indomie + Total_cost_of_Egg + Total_cost_of_Oil + Total_cost_of_Sardine \n",
    "           + Total_cost_of_Bread + Total_cost_of_Tea  ) )"
   ]
  }
 ],
 "metadata": {
  "kernelspec": {
   "display_name": "Python 3 (ipykernel)",
   "language": "python",
   "name": "python3"
  },
  "language_info": {
   "codemirror_mode": {
    "name": "ipython",
    "version": 3
   },
   "file_extension": ".py",
   "mimetype": "text/x-python",
   "name": "python",
   "nbconvert_exporter": "python",
   "pygments_lexer": "ipython3",
   "version": "3.11.5"
  }
 },
 "nbformat": 4,
 "nbformat_minor": 5
}
